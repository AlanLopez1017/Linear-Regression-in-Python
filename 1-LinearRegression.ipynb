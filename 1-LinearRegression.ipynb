{
 "cells": [
  {
   "cell_type": "markdown",
   "metadata": {},
   "source": [
    "# Modelos de Regresión lineal\n",
    "## Modelo con datos simulados\n",
    "y = a+b*x\n",
    "X: 100 valores distribuidos según N(1.5, 2.5)\n",
    "Ye = 5 + 1.9 * X+e\n",
    "e estará distribuida según una normal N(0, 0.8)\n"
   ]
  },
  {
   "cell_type": "code",
   "execution_count": 2,
   "metadata": {},
   "outputs": [],
   "source": [
    "import pandas as pd\n",
    "import numpy as np"
   ]
  },
  {
   "cell_type": "code",
   "execution_count": 3,
   "metadata": {},
   "outputs": [],
   "source": [
    "x = 1.5 + 2.5*np.random.randn(100)\n",
    "res = 0.8*np.random.randn(100)\n",
    "y_pred = 5+1.9*x\n",
    "y_act = 5+1.9*x+res"
   ]
  },
  {
   "cell_type": "code",
   "execution_count": 4,
   "metadata": {},
   "outputs": [],
   "source": [
    "x_list = x.tolist()\n",
    "y_pred_list = y_pred.tolist()\n",
    "y_act_list = y_act.tolist()"
   ]
  },
  {
   "cell_type": "code",
   "execution_count": 5,
   "metadata": {},
   "outputs": [],
   "source": [
    "data = pd.DataFrame(\n",
    "    {\n",
    "        \"x\": x_list,\n",
    "        \"y_actual\": y_act_list,\n",
    "        \"y_prediction\": y_pred_list\n",
    "    }\n",
    ")"
   ]
  },
  {
   "cell_type": "code",
   "execution_count": 6,
   "metadata": {},
   "outputs": [
    {
     "data": {
      "text/html": [
       "<div>\n",
       "<style scoped>\n",
       "    .dataframe tbody tr th:only-of-type {\n",
       "        vertical-align: middle;\n",
       "    }\n",
       "\n",
       "    .dataframe tbody tr th {\n",
       "        vertical-align: top;\n",
       "    }\n",
       "\n",
       "    .dataframe thead th {\n",
       "        text-align: right;\n",
       "    }\n",
       "</style>\n",
       "<table border=\"1\" class=\"dataframe\">\n",
       "  <thead>\n",
       "    <tr style=\"text-align: right;\">\n",
       "      <th></th>\n",
       "      <th>x</th>\n",
       "      <th>y_actual</th>\n",
       "      <th>y_prediction</th>\n",
       "    </tr>\n",
       "  </thead>\n",
       "  <tbody>\n",
       "    <tr>\n",
       "      <th>0</th>\n",
       "      <td>3.917267</td>\n",
       "      <td>13.687124</td>\n",
       "      <td>12.442807</td>\n",
       "    </tr>\n",
       "    <tr>\n",
       "      <th>1</th>\n",
       "      <td>2.555729</td>\n",
       "      <td>8.829047</td>\n",
       "      <td>9.855885</td>\n",
       "    </tr>\n",
       "    <tr>\n",
       "      <th>2</th>\n",
       "      <td>3.431841</td>\n",
       "      <td>11.745459</td>\n",
       "      <td>11.520498</td>\n",
       "    </tr>\n",
       "    <tr>\n",
       "      <th>3</th>\n",
       "      <td>2.517439</td>\n",
       "      <td>9.555046</td>\n",
       "      <td>9.783134</td>\n",
       "    </tr>\n",
       "    <tr>\n",
       "      <th>4</th>\n",
       "      <td>1.972922</td>\n",
       "      <td>8.441431</td>\n",
       "      <td>8.748552</td>\n",
       "    </tr>\n",
       "  </tbody>\n",
       "</table>\n",
       "</div>"
      ],
      "text/plain": [
       "          x   y_actual  y_prediction\n",
       "0  3.917267  13.687124     12.442807\n",
       "1  2.555729   8.829047      9.855885\n",
       "2  3.431841  11.745459     11.520498\n",
       "3  2.517439   9.555046      9.783134\n",
       "4  1.972922   8.441431      8.748552"
      ]
     },
     "execution_count": 6,
     "metadata": {},
     "output_type": "execute_result"
    }
   ],
   "source": [
    "data.head()"
   ]
  },
  {
   "cell_type": "code",
   "execution_count": 7,
   "metadata": {},
   "outputs": [],
   "source": [
    "import matplotlib.pyplot as plt"
   ]
  },
  {
   "cell_type": "code",
   "execution_count": 8,
   "metadata": {},
   "outputs": [],
   "source": [
    "y_mean = [np.mean(y_act) for i in range(1,len(x_list)+1)]"
   ]
  },
  {
   "cell_type": "code",
   "execution_count": 9,
   "metadata": {},
   "outputs": [
    {
     "data": {
      "text/plain": [
       "Text(0.5, 1.0, 'Valor actual vs predicción')"
      ]
     },
     "execution_count": 9,
     "metadata": {},
     "output_type": "execute_result"
    },
    {
     "data": {
      "image/png": "[encoded data removed]",
      "text/plain": [
       "<Figure size 432x288 with 1 Axes>"
      ]
     },
     "metadata": {
      "needs_background": "light"
     },
     "output_type": "display_data"
    }
   ],
   "source": [
    "%matplotlib inline\n",
    "plt.plot(x, y_pred)\n",
    "plt.plot(x,y_act, \"ro\")\n",
    "plt.plot(x,y_mean, \"g-\")\n",
    "plt.title(\"Valor actual vs predicción\")\n"
   ]
  },
  {
   "cell_type": "markdown",
   "metadata": {},
   "source": [
    "## Cómo es la predicción de buena?\n",
    "* SST = SSD + SSR\n",
    "* SST: Variabilidad de los datos con respecto de su media\n",
    "* SSD: Diferencia entre los datos originales y las predicciones que el modelo no es capaz de explicar (errores que deberían seguir una distribución normal)\n",
    "* SSR: Diferencia entre la regresión y el valor medio que el modelo busca explicar\n",
    "* R2 = SSR/SST, coeficiente de determinación entre 0 y 1"
   ]
  },
  {
   "cell_type": "code",
   "execution_count": 10,
   "metadata": {},
   "outputs": [],
   "source": [
    "data[\"SSR\"] = (data[\"y_prediction\"]-np.mean(y_act))**2\n",
    "data[\"SSD\"] = (data[\"y_actual\"]-data[\"y_prediction\"])**2\n",
    "data[\"SST\"] = (data[\"y_actual\"]-np.mean(y_act))**2"
   ]
  },
  {
   "cell_type": "code",
   "execution_count": 11,
   "metadata": {},
   "outputs": [
    {
     "data": {
      "text/html": [
       "<div>\n",
       "<style scoped>\n",
       "    .dataframe tbody tr th:only-of-type {\n",
       "        vertical-align: middle;\n",
       "    }\n",
       "\n",
       "    .dataframe tbody tr th {\n",
       "        vertical-align: top;\n",
       "    }\n",
       "\n",
       "    .dataframe thead th {\n",
       "        text-align: right;\n",
       "    }\n",
       "</style>\n",
       "<table border=\"1\" class=\"dataframe\">\n",
       "  <thead>\n",
       "    <tr style=\"text-align: right;\">\n",
       "      <th></th>\n",
       "      <th>x</th>\n",
       "      <th>y_actual</th>\n",
       "      <th>y_prediction</th>\n",
       "      <th>SSR</th>\n",
       "      <th>SSD</th>\n",
       "      <th>SST</th>\n",
       "    </tr>\n",
       "  </thead>\n",
       "  <tbody>\n",
       "    <tr>\n",
       "      <th>0</th>\n",
       "      <td>3.917267</td>\n",
       "      <td>13.687124</td>\n",
       "      <td>12.442807</td>\n",
       "      <td>23.195204</td>\n",
       "      <td>1.548325</td>\n",
       "      <td>36.729142</td>\n",
       "    </tr>\n",
       "    <tr>\n",
       "      <th>1</th>\n",
       "      <td>2.555729</td>\n",
       "      <td>8.829047</td>\n",
       "      <td>9.855885</td>\n",
       "      <td>4.969410</td>\n",
       "      <td>1.054397</td>\n",
       "      <td>1.445716</td>\n",
       "    </tr>\n",
       "    <tr>\n",
       "      <th>2</th>\n",
       "      <td>3.431841</td>\n",
       "      <td>11.745459</td>\n",
       "      <td>11.520498</td>\n",
       "      <td>15.161918</td>\n",
       "      <td>0.050608</td>\n",
       "      <td>16.964449</td>\n",
       "    </tr>\n",
       "    <tr>\n",
       "      <th>3</th>\n",
       "      <td>2.517439</td>\n",
       "      <td>9.555046</td>\n",
       "      <td>9.783134</td>\n",
       "      <td>4.650350</td>\n",
       "      <td>0.052024</td>\n",
       "      <td>3.718644</td>\n",
       "    </tr>\n",
       "    <tr>\n",
       "      <th>4</th>\n",
       "      <td>1.972922</td>\n",
       "      <td>8.441431</td>\n",
       "      <td>8.748552</td>\n",
       "      <td>1.258626</td>\n",
       "      <td>0.094324</td>\n",
       "      <td>0.663839</td>\n",
       "    </tr>\n",
       "  </tbody>\n",
       "</table>\n",
       "</div>"
      ],
      "text/plain": [
       "          x   y_actual  y_prediction        SSR       SSD        SST\n",
       "0  3.917267  13.687124     12.442807  23.195204  1.548325  36.729142\n",
       "1  2.555729   8.829047      9.855885   4.969410  1.054397   1.445716\n",
       "2  3.431841  11.745459     11.520498  15.161918  0.050608  16.964449\n",
       "3  2.517439   9.555046      9.783134   4.650350  0.052024   3.718644\n",
       "4  1.972922   8.441431      8.748552   1.258626  0.094324   0.663839"
      ]
     },
     "execution_count": 11,
     "metadata": {},
     "output_type": "execute_result"
    }
   ],
   "source": [
    "data.head()"
   ]
  },
  {
   "cell_type": "code",
   "execution_count": 12,
   "metadata": {},
   "outputs": [],
   "source": [
    "SSR = sum(data[\"SSR\"])\n",
    "SSD = sum(data[\"SSD\"])\n",
    "SST = sum(data[\"SST\"])"
   ]
  },
  {
   "cell_type": "code",
   "execution_count": 13,
   "metadata": {},
   "outputs": [
    {
     "data": {
      "text/plain": [
       "1937.6656518159589"
      ]
     },
     "execution_count": 13,
     "metadata": {},
     "output_type": "execute_result"
    }
   ],
   "source": [
    "SSR"
   ]
  },
  {
   "cell_type": "code",
   "execution_count": 14,
   "metadata": {},
   "outputs": [
    {
     "data": {
      "text/plain": [
       "68.49722700409077"
      ]
     },
     "execution_count": 14,
     "metadata": {},
     "output_type": "execute_result"
    }
   ],
   "source": [
    "SSD"
   ]
  },
  {
   "cell_type": "code",
   "execution_count": 15,
   "metadata": {},
   "outputs": [
    {
     "data": {
      "text/plain": [
       "2005.8234745344312"
      ]
     },
     "execution_count": 15,
     "metadata": {},
     "output_type": "execute_result"
    }
   ],
   "source": [
    "SST"
   ]
  },
  {
   "cell_type": "code",
   "execution_count": 16,
   "metadata": {},
   "outputs": [
    {
     "data": {
      "text/plain": [
       "2006.1628788200496"
      ]
     },
     "execution_count": 16,
     "metadata": {},
     "output_type": "execute_result"
    }
   ],
   "source": [
    "SSR+SSD"
   ]
  },
  {
   "cell_type": "code",
   "execution_count": 17,
   "metadata": {},
   "outputs": [
    {
     "data": {
      "text/plain": [
       "0.9660200293875351"
      ]
     },
     "execution_count": 17,
     "metadata": {},
     "output_type": "execute_result"
    }
   ],
   "source": [
    "R2 = SSR/SST\n",
    "R2"
   ]
  },
  {
   "cell_type": "code",
   "execution_count": 18,
   "metadata": {},
   "outputs": [
    {
     "data": {
      "text/plain": [
       "(array([ 3.,  9., 11., 23., 21., 15.,  9.,  5.,  1.,  3.]),\n",
       " array([-1.88228964, -1.45565832, -1.02902699, -0.60239567, -0.17576434,\n",
       "         0.25086698,  0.67749831,  1.10412963,  1.53076096,  1.95739228,\n",
       "         2.38402361]),\n",
       " <BarContainer object of 10 artists>)"
      ]
     },
     "execution_count": 18,
     "metadata": {},
     "output_type": "execute_result"
    },
    {
     "data": {
      "image/png": "[encoded data removed]",
      "text/plain": [
       "<Figure size 432x288 with 1 Axes>"
      ]
     },
     "metadata": {
      "needs_background": "light"
     },
     "output_type": "display_data"
    }
   ],
   "source": [
    "plt.hist((data[\"y_actual\"]-data[\"y_prediction\"]))"
   ]
  },
  {
   "cell_type": "markdown",
   "metadata": {},
   "source": [
    "## Obteniendo la recta de regresión\n",
    "* y = a+b*x\n",
    "* b = sum((xi-xm)*(yi-ym))/sum((xi-xm)^2)\n",
    "* a = ym-b*xm"
   ]
  },
  {
   "cell_type": "code",
   "execution_count": 19,
   "metadata": {},
   "outputs": [
    {
     "data": {
      "text/plain": [
       "(1.4042652789725336, 7.626667242508285)"
      ]
     },
     "execution_count": 19,
     "metadata": {},
     "output_type": "execute_result"
    }
   ],
   "source": [
    "x_mean = np.mean(data[\"x\"])\n",
    "y_mean = np.mean(data[\"y_actual\"])\n",
    "x_mean, y_mean "
   ]
  },
  {
   "cell_type": "code",
   "execution_count": 20,
   "metadata": {},
   "outputs": [],
   "source": [
    "data[\"beta_n\"] = (data[\"x\"]-x_mean)*(data[\"y_actual\"]-y_mean)\n",
    "data[\"beta_d\"] = (data[\"x\"]-x_mean)**2"
   ]
  },
  {
   "cell_type": "code",
   "execution_count": 21,
   "metadata": {},
   "outputs": [],
   "source": [
    "beta = sum(data[\"beta_n\"])/sum(data[\"beta_d\"])\n",
    "alpha = y_mean - beta*x_mean"
   ]
  },
  {
   "cell_type": "code",
   "execution_count": 22,
   "metadata": {},
   "outputs": [
    {
     "data": {
      "text/plain": [
       "(4.958560460217054, 1.9000019599170173)"
      ]
     },
     "execution_count": 22,
     "metadata": {},
     "output_type": "execute_result"
    }
   ],
   "source": [
    "alpha, beta"
   ]
  },
  {
   "cell_type": "markdown",
   "metadata": {},
   "source": [
    "El modelo lineal obtenido por regresión es:\n",
    "y = 4.961882654854124 + 1.9429129051719651*x"
   ]
  },
  {
   "cell_type": "code",
   "execution_count": 23,
   "metadata": {},
   "outputs": [],
   "source": [
    "data[\"y_model\"] = alpha + beta*data[\"x\"]"
   ]
  },
  {
   "cell_type": "code",
   "execution_count": 24,
   "metadata": {},
   "outputs": [
    {
     "data": {
      "text/html": [
       "<div>\n",
       "<style scoped>\n",
       "    .dataframe tbody tr th:only-of-type {\n",
       "        vertical-align: middle;\n",
       "    }\n",
       "\n",
       "    .dataframe tbody tr th {\n",
       "        vertical-align: top;\n",
       "    }\n",
       "\n",
       "    .dataframe thead th {\n",
       "        text-align: right;\n",
       "    }\n",
       "</style>\n",
       "<table border=\"1\" class=\"dataframe\">\n",
       "  <thead>\n",
       "    <tr style=\"text-align: right;\">\n",
       "      <th></th>\n",
       "      <th>x</th>\n",
       "      <th>y_actual</th>\n",
       "      <th>y_prediction</th>\n",
       "      <th>SSR</th>\n",
       "      <th>SSD</th>\n",
       "      <th>SST</th>\n",
       "      <th>beta_n</th>\n",
       "      <th>beta_d</th>\n",
       "      <th>y_model</th>\n",
       "    </tr>\n",
       "  </thead>\n",
       "  <tbody>\n",
       "    <tr>\n",
       "      <th>0</th>\n",
       "      <td>3.917267</td>\n",
       "      <td>13.687124</td>\n",
       "      <td>12.442807</td>\n",
       "      <td>23.195204</td>\n",
       "      <td>1.548325</td>\n",
       "      <td>36.729142</td>\n",
       "      <td>15.229939</td>\n",
       "      <td>6.315177</td>\n",
       "      <td>12.401375</td>\n",
       "    </tr>\n",
       "    <tr>\n",
       "      <th>1</th>\n",
       "      <td>2.555729</td>\n",
       "      <td>8.829047</td>\n",
       "      <td>9.855885</td>\n",
       "      <td>4.969410</td>\n",
       "      <td>1.054397</td>\n",
       "      <td>1.445716</td>\n",
       "      <td>1.384496</td>\n",
       "      <td>1.325868</td>\n",
       "      <td>9.814450</td>\n",
       "    </tr>\n",
       "    <tr>\n",
       "      <th>2</th>\n",
       "      <td>3.431841</td>\n",
       "      <td>11.745459</td>\n",
       "      <td>11.520498</td>\n",
       "      <td>15.161918</td>\n",
       "      <td>0.050608</td>\n",
       "      <td>16.964449</td>\n",
       "      <td>8.351163</td>\n",
       "      <td>4.111063</td>\n",
       "      <td>11.479065</td>\n",
       "    </tr>\n",
       "    <tr>\n",
       "      <th>3</th>\n",
       "      <td>2.517439</td>\n",
       "      <td>9.555046</td>\n",
       "      <td>9.783134</td>\n",
       "      <td>4.650350</td>\n",
       "      <td>0.052024</td>\n",
       "      <td>3.718644</td>\n",
       "      <td>2.146621</td>\n",
       "      <td>1.239156</td>\n",
       "      <td>9.741700</td>\n",
       "    </tr>\n",
       "    <tr>\n",
       "      <th>4</th>\n",
       "      <td>1.972922</td>\n",
       "      <td>8.441431</td>\n",
       "      <td>8.748552</td>\n",
       "      <td>1.258626</td>\n",
       "      <td>0.094324</td>\n",
       "      <td>0.663839</td>\n",
       "      <td>0.463321</td>\n",
       "      <td>0.323371</td>\n",
       "      <td>8.707117</td>\n",
       "    </tr>\n",
       "  </tbody>\n",
       "</table>\n",
       "</div>"
      ],
      "text/plain": [
       "          x   y_actual  y_prediction        SSR       SSD        SST  \\\n",
       "0  3.917267  13.687124     12.442807  23.195204  1.548325  36.729142   \n",
       "1  2.555729   8.829047      9.855885   4.969410  1.054397   1.445716   \n",
       "2  3.431841  11.745459     11.520498  15.161918  0.050608  16.964449   \n",
       "3  2.517439   9.555046      9.783134   4.650350  0.052024   3.718644   \n",
       "4  1.972922   8.441431      8.748552   1.258626  0.094324   0.663839   \n",
       "\n",
       "      beta_n    beta_d    y_model  \n",
       "0  15.229939  6.315177  12.401375  \n",
       "1   1.384496  1.325868   9.814450  \n",
       "2   8.351163  4.111063  11.479065  \n",
       "3   2.146621  1.239156   9.741700  \n",
       "4   0.463321  0.323371   8.707117  "
      ]
     },
     "execution_count": 24,
     "metadata": {},
     "output_type": "execute_result"
    }
   ],
   "source": [
    "data.head()"
   ]
  },
  {
   "cell_type": "code",
   "execution_count": 25,
   "metadata": {},
   "outputs": [],
   "source": [
    "SSR = sum((data[\"y_model\"]-y_mean)**2)\n",
    "SSD = sum((data[\"y_model\"]-data[\"y_actual\"])**2)\n",
    "SST = sum((data[\"y_actual\"]-y_mean)**2)"
   ]
  },
  {
   "cell_type": "code",
   "execution_count": 26,
   "metadata": {},
   "outputs": [
    {
     "data": {
      "text/plain": [
       "(1937.497948268562, 68.32552626586956, 2005.8234745344312)"
      ]
     },
     "execution_count": 26,
     "metadata": {},
     "output_type": "execute_result"
    }
   ],
   "source": [
    "SSR, SSD, SST"
   ]
  },
  {
   "cell_type": "code",
   "execution_count": 27,
   "metadata": {},
   "outputs": [
    {
     "data": {
      "text/plain": [
       "0.9659364210593216"
      ]
     },
     "execution_count": 27,
     "metadata": {},
     "output_type": "execute_result"
    }
   ],
   "source": [
    "R2=SSR/SST\n",
    "R2"
   ]
  },
  {
   "cell_type": "code",
   "execution_count": 28,
   "metadata": {},
   "outputs": [
    {
     "data": {
      "text/plain": [
       "Text(0.5, 1.0, 'Valor actual vs predicción')"
      ]
     },
     "execution_count": 28,
     "metadata": {},
     "output_type": "execute_result"
    },
    {
     "data": {
      "image/png": "[encoded data removed]",
      "text/plain": [
       "<Figure size 432x288 with 1 Axes>"
      ]
     },
     "metadata": {
      "needs_background": "light"
     },
     "output_type": "display_data"
    }
   ],
   "source": [
    "%matplotlib inline\n",
    "\n",
    "y_mean = [np.mean(y_act) for i in range(1,len(x_list)+1)]\n",
    "plt.plot(x, y_pred)\n",
    "plt.plot(x,y_act, \"ro\")\n",
    "plt.plot(x,y_mean, \"g-\")\n",
    "plt.plot(data[\"x\"], data[\"y_model\"])\n",
    "plt.title(\"Valor actual vs predicción\")"
   ]
  },
  {
   "cell_type": "markdown",
   "metadata": {},
   "source": [
    "## Error estándar de los residuos (RSE)"
   ]
  },
  {
   "cell_type": "code",
   "execution_count": 31,
   "metadata": {},
   "outputs": [
    {
     "data": {
      "text/plain": [
       "0.8349845792653382"
      ]
     },
     "execution_count": 31,
     "metadata": {},
     "output_type": "execute_result"
    }
   ],
   "source": [
    "RSE = np.sqrt(SSD/(len(data)-2)) # cuanto menor sea, mejor\n",
    "RSE"
   ]
  },
  {
   "cell_type": "code",
   "execution_count": 32,
   "metadata": {},
   "outputs": [
    {
     "data": {
      "text/plain": [
       "7.626667242508285"
      ]
     },
     "execution_count": 32,
     "metadata": {},
     "output_type": "execute_result"
    }
   ],
   "source": [
    "np.mean(data[\"y_actual\"])"
   ]
  },
  {
   "cell_type": "code",
   "execution_count": 33,
   "metadata": {},
   "outputs": [
    {
     "data": {
      "text/plain": [
       "0.10948223551847604"
      ]
     },
     "execution_count": 33,
     "metadata": {},
     "output_type": "execute_result"
    }
   ],
   "source": [
    "RSE/np.mean(data[\"y_actual\"]) #porcentaje del error"
   ]
  }
 ],
 "metadata": {
  "kernelspec": {
   "display_name": "Python 3",
   "language": "python",
   "name": "python3"
  },
  "language_info": {
   "codemirror_mode": {
    "name": "ipython",
    "version": 3
   },
   "file_extension": ".py",
   "mimetype": "text/x-python",
   "name": "python",
   "nbconvert_exporter": "python",
   "pygments_lexer": "ipython3",
   "version": "3.9.7"
  },
  "orig_nbformat": 4
 },
 "nbformat": 4,
 "nbformat_minor": 2
}
